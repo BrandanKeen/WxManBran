    "fig.suptitle('Hurricane Milton (Sarasota, FL)', fontsize=18, fontweight='bold', y=0.98)\n",
    "# Gray site watermark aligned with the suptitle to persist in saved images\n",
    "fig.text(0.99, 0.98, 'WxManBran.com', ha='right', va='top', fontsize=12, color='gray', alpha=0.8, transform=fig.transFigure)\n",
